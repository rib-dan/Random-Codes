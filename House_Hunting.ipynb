{
  "nbformat": 4,
  "nbformat_minor": 0,
  "metadata": {
    "colab": {
      "name": "House Hunting.ipynb",
      "provenance": [],
      "authorship_tag": "ABX9TyN7trmSGzlpJPB4iI58Bu4d",
      "include_colab_link": true
    },
    "kernelspec": {
      "name": "python3",
      "display_name": "Python 3"
    },
    "language_info": {
      "name": "python"
    }
  },
  "cells": [
    {
      "cell_type": "markdown",
      "metadata": {
        "id": "view-in-github",
        "colab_type": "text"
      },
      "source": [
        "<a href=\"https://colab.research.google.com/github/rib-dan/Random-Codes/blob/main/House_Hunting.ipynb\" target=\"_parent\"><img src=\"https://colab.research.google.com/assets/colab-badge.svg\" alt=\"Open In Colab\"/></a>"
      ]
    },
    {
      "cell_type": "code",
      "source": [
        "total_cost = float(input(\"Please, inform the value of the house you want to purchase:\"))\n",
        "\n",
        "annual_salary = float(input(\"Please, inform the value of your annual salary:\"))\n",
        "\n",
        "portion_saved = float(input(\"Please, inform the portion of your montly salary you wish to save:\"))\n",
        "\n",
        "semi_anual_raise = float(input(\"Please, inform your semi annual raise rates:\"))"
      ],
      "metadata": {
        "colab": {
          "base_uri": "https://localhost:8080/"
        },
        "id": "l1afvRz0p3sG",
        "outputId": "55c5498d-798c-4f2a-963a-81e9f4657a69"
      },
      "execution_count": 18,
      "outputs": [
        {
          "name": "stdout",
          "output_type": "stream",
          "text": [
            "Please, inform the value of the house you want to purchase:800000\n",
            "Please, inform the value of your annual salary:80000\n",
            "Please, inform the portion of your montly salary you wish to save:0.1\n",
            "Please, inform your semi annual raise rates:0.03\n"
          ]
        }
      ]
    },
    {
      "cell_type": "code",
      "execution_count": 19,
      "metadata": {
        "colab": {
          "base_uri": "https://localhost:8080/"
        },
        "id": "-jZq_T4slIha",
        "outputId": "dfa815a2-b0cb-4c8e-ff57-a436df263dfc"
      },
      "outputs": [
        {
          "output_type": "stream",
          "name": "stdout",
          "text": [
            "You need to save for: 159 months. The total value is: 201556.58809733373\n"
          ]
        }
      ],
      "source": [
        "portion_down_payment=0.25\n",
        "current_savings=0\n",
        "r = 0.04\n",
        "monthly_salary=annual_salary/12\n",
        "month= 0\n",
        "\n",
        "while current_savings < portion_down_payment*total_cost:\n",
        "  current_savings = current_savings + current_savings*(r/12)+monthly_salary*portion_saved\n",
        "  month += 1\n",
        "  if month%6 == 0:\n",
        "    monthly_salary=monthly_salary*(1+semi_anual_raise)\n",
        "\n",
        "\n",
        "print(\"You need to save for:\", month, \"months. The total value is:\", current_savings)"
      ]
    }
  ]
}