{
  "nbformat": 4,
  "nbformat_minor": 0,
  "metadata": {
    "colab": {
      "name": "Recursive Fibonnaci With Dictionary.ipynb",
      "provenance": [],
      "authorship_tag": "ABX9TyM8vU88TDs1Kqle4eLAY8mp",
      "include_colab_link": true
    },
    "kernelspec": {
      "name": "python3",
      "display_name": "Python 3"
    },
    "language_info": {
      "name": "python"
    }
  },
  "cells": [
    {
      "cell_type": "markdown",
      "metadata": {
        "id": "view-in-github",
        "colab_type": "text"
      },
      "source": [
        "<a href=\"https://colab.research.google.com/github/rib-dan/Random-Codes/blob/main/Recursive_Fibonnaci_With_Dictionary.ipynb\" target=\"_parent\"><img src=\"https://colab.research.google.com/assets/colab-badge.svg\" alt=\"Open In Colab\"/></a>"
      ]
    },
    {
      "cell_type": "code",
      "execution_count": 14,
      "metadata": {
        "id": "AFXMUmTIXfEU"
      },
      "outputs": [],
      "source": [
        "def fibonnaci(n,d):\n",
        "  if n in d:\n",
        "    return d[n]\n",
        "  else:\n",
        "    ans = fibonnaci(n-1,d)+fibonnaci(n-2,d)\n",
        "    d[n]=ans\n",
        "    return ans"
      ]
    },
    {
      "cell_type": "code",
      "source": [
        "d = {0:0,1:1, 2:1}\n",
        "print(fibonnaci(20,d))"
      ],
      "metadata": {
        "colab": {
          "base_uri": "https://localhost:8080/"
        },
        "id": "9JY1ksadbNby",
        "outputId": "91deb35c-a901-4ae9-ab03-b801508dd566"
      },
      "execution_count": 15,
      "outputs": [
        {
          "output_type": "stream",
          "name": "stdout",
          "text": [
            "6765\n"
          ]
        }
      ]
    }
  ]
}