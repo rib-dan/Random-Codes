{
  "nbformat": 4,
  "nbformat_minor": 0,
  "metadata": {
    "colab": {
      "name": "Cubic root - trial and error.ipynb",
      "provenance": [],
      "authorship_tag": "ABX9TyP7EDwzBKviL95JO1Yy46l8",
      "include_colab_link": true
    },
    "kernelspec": {
      "name": "python3",
      "display_name": "Python 3"
    },
    "language_info": {
      "name": "python"
    }
  },
  "cells": [
    {
      "cell_type": "markdown",
      "metadata": {
        "id": "view-in-github",
        "colab_type": "text"
      },
      "source": [
        "<a href=\"https://colab.research.google.com/github/rib-dan/Random-Codes/blob/main/Cubic_root_trial_and_error.ipynb\" target=\"_parent\"><img src=\"https://colab.research.google.com/assets/colab-badge.svg\" alt=\"Open In Colab\"/></a>"
      ]
    },
    {
      "cell_type": "markdown",
      "source": [
        "This code calculates the value of the 3 root of a number by trial and error."
      ],
      "metadata": {
        "id": "BXQQxyTXWT6G"
      }
    },
    {
      "cell_type": "code",
      "execution_count": null,
      "metadata": {
        "colab": {
          "base_uri": "https://localhost:8080/"
        },
        "id": "p4EcyS7qWEDY",
        "outputId": "808f5ebd-5af9-48e6-835f-5e86345346d9"
      },
      "outputs": [
        {
          "name": "stdout",
          "output_type": "stream",
          "text": [
            "This program calculates the cube root of a value. Please, type the value you want to calculate:-18.6\n"
          ]
        }
      ],
      "source": [
        "tol = 1e-3\n",
        "step = 1e-7\n",
        "x = input(\"This program calculates the cube root of a value. Please, type the value you want to calculate:\")\n",
        "x = float(x)"
      ]
    },
    {
      "cell_type": "code",
      "source": [
        "iterator = 0\n",
        "while abs(abs(x)-(iterator)**3) > tol or iterator == abs(x):\n",
        "  iterator += step\n",
        " \n",
        "if x < 0:\n",
        "  iterator = iterator*(-1)\n",
        "\n",
        "print(\"O valor é\", round(iterator,2))\n"
      ],
      "metadata": {
        "colab": {
          "base_uri": "https://localhost:8080/"
        },
        "id": "Pt_iz2QLW9Bp",
        "outputId": "dedc1122-47ed-4964-d4ca-f3371b8fc660"
      },
      "execution_count": null,
      "outputs": [
        {
          "output_type": "stream",
          "name": "stdout",
          "text": [
            "O valor é -2.65\n"
          ]
        }
      ]
    }
  ]
}