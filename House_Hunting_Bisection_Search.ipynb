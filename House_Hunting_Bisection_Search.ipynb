{
  "nbformat": 4,
  "nbformat_minor": 0,
  "metadata": {
    "colab": {
      "name": "House Hunting - Bisection Search.ipynb",
      "provenance": [],
      "collapsed_sections": [],
      "authorship_tag": "ABX9TyOD2H4eBLSaKPqJjXB1sGeh",
      "include_colab_link": true
    },
    "kernelspec": {
      "name": "python3",
      "display_name": "Python 3"
    },
    "language_info": {
      "name": "python"
    }
  },
  "cells": [
    {
      "cell_type": "markdown",
      "metadata": {
        "id": "view-in-github",
        "colab_type": "text"
      },
      "source": [
        "<a href=\"https://colab.research.google.com/github/rib-dan/Random-Codes/blob/main/House_Hunting_Bisection_Search.ipynb\" target=\"_parent\"><img src=\"https://colab.research.google.com/assets/colab-badge.svg\" alt=\"Open In Colab\"/></a>"
      ]
    },
    {
      "cell_type": "markdown",
      "source": [
        "This algorithm uses bisection search to calculate the portion of your monthly salary you need to save, in order to afford the downpayment of a house that costs $1,000,000 in 36 months. Considering that the downpayment is equal to 25% of the house's cost, your savings are compounded at a annual rate of 4%, and that you receive a semi annual raise of 7%."
      ],
      "metadata": {
        "id": "y3PKNXQB_4W8"
      }
    },
    {
      "cell_type": "code",
      "execution_count": 30,
      "metadata": {
        "id": "Sd2dAZDku3na",
        "colab": {
          "base_uri": "https://localhost:8080/"
        },
        "outputId": "2bb0598b-1d04-48fb-da0e-8b86acae9e3b"
      },
      "outputs": [
        {
          "name": "stdout",
          "output_type": "stream",
          "text": [
            "Please, inform the value of your annual salary:300000\n"
          ]
        }
      ],
      "source": [
        "import time\n",
        "\n",
        "#Prompt the user for their annual income\n",
        "annual_salary = float(input(\"Please, inform the value of your annual salary:\"))\n"
      ]
    },
    {
      "cell_type": "code",
      "source": [
        "#define useful variables\n",
        "semi_annual_raise = 0.07\n",
        "r = 0.04\n",
        "portion_down_payment=0.25\n",
        "total_cost = 1000000\n",
        "tol=100\n",
        "portion_saved=50\n",
        "current_savings=0\n",
        "monthly_salary = annual_salary/12\n",
        "steps = 0\n",
        "\n",
        "#initiates search, until the savings are within $100 from the target\n",
        "while abs(portion_down_payment*total_cost- current_savings) > tol:\n",
        "\n",
        "    #initiates search variables\n",
        "    current_savings=0\n",
        "    month = 0\n",
        "    monthly_salary = annual_salary/12\n",
        "    #calculates savings in 36 months under these conditions\n",
        "    while month < 37:      \n",
        "        current_savings = current_savings + current_savings*(r/12)+monthly_salary*(portion_saved/1000)\n",
        "        month += 1\n",
        "        if month%6 == 0:\n",
        "          monthly_salary=monthly_salary*(1+semi_annual_raise)\n",
        "    #verify whether savings are enough, and adjust the portion saved\n",
        "    if current_savings > portion_down_payment*total_cost:\n",
        "      portion_saved = portion_saved - portion_saved*(abs(portion_down_payment*total_cost- current_savings)/(portion_down_payment*total_cost))\n",
        "    if current_savings < portion_down_payment*total_cost:\n",
        "      portion_saved = portion_saved + portion_saved*(abs(portion_down_payment*total_cost- current_savings)/(portion_down_payment*total_cost))\n",
        "    #counts the steps\n",
        "    steps+=1\n",
        "\n",
        "#determine whether it's possible to save fort his house, and inform the user\n",
        "if (portion_saved/10 >=100):\n",
        "  print(\"Unfortunately it's not possible to save for this house in 36 months while earning\", annual_salary)\n",
        "else:\n",
        "  print(\"In order to save for this house, you need to save a portion of\", round(portion_saved/10,2),\"percents from your monthly salary\")\n",
        "\n",
        "print(\"The algorithm converged in\", steps, \"steps\")\n",
        "\n",
        "    \n"
      ],
      "metadata": {
        "id": "Hs4dDiojvvdF",
        "colab": {
          "base_uri": "https://localhost:8080/"
        },
        "outputId": "686bcd35-ff15-4a14-efba-8ca6e1f65519"
      },
      "execution_count": 37,
      "outputs": [
        {
          "output_type": "stream",
          "name": "stdout",
          "text": [
            "In order to save for this house, you need to save a portion of 21.28 percents from your monthly salary\n",
            "The algorithm converged in 6 steps\n"
          ]
        }
      ]
    }
  ]
}