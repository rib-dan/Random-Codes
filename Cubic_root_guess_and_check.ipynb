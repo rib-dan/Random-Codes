{
  "nbformat": 4,
  "nbformat_minor": 0,
  "metadata": {
    "colab": {
      "name": "Cubic root - guess and check.ipynb",
      "provenance": [],
      "authorship_tag": "ABX9TyOq2monW12tiWcHssBhnvrA",
      "include_colab_link": true
    },
    "kernelspec": {
      "name": "python3",
      "display_name": "Python 3"
    },
    "language_info": {
      "name": "python"
    }
  },
  "cells": [
    {
      "cell_type": "markdown",
      "metadata": {
        "id": "view-in-github",
        "colab_type": "text"
      },
      "source": [
        "<a href=\"https://colab.research.google.com/github/rib-dan/Random-Codes/blob/main/Cubic_root_guess_and_check.ipynb\" target=\"_parent\"><img src=\"https://colab.research.google.com/assets/colab-badge.svg\" alt=\"Open In Colab\"/></a>"
      ]
    },
    {
      "cell_type": "markdown",
      "source": [
        "This code calculates the root of x by guess and checking"
      ],
      "metadata": {
        "id": "4ogbIx7Ad0Vi"
      }
    },
    {
      "cell_type": "code",
      "execution_count": 10,
      "metadata": {
        "colab": {
          "base_uri": "https://localhost:8080/"
        },
        "id": "4o0b19o5dyOs",
        "outputId": "93ac7e53-cc5a-4300-b4c7-b61d9dccbbb9"
      },
      "outputs": [
        {
          "name": "stdout",
          "output_type": "stream",
          "text": [
            "This code calculates the cubic root of x. Please, provide the value for x:-2.69413\n"
          ]
        }
      ],
      "source": [
        "guess = 0\n",
        "tol = 1e-8\n",
        "\n",
        "x = float(input(\"This code calculates the cubic root of x. Please, provide the value for x:\"))"
      ]
    },
    {
      "cell_type": "code",
      "source": [
        "guess = x/2\n",
        "step = 2\n",
        "while abs(abs(x)-guess**3) > tol:\n",
        "  if guess**3 > abs(x):\n",
        "    guess = guess- abs(abs(x)-guess)/step\n",
        "  if guess**3<abs(x):\n",
        "    guess = guess + abs(abs(x)-guess)/step\n",
        "  step+=1\n",
        "\n",
        "if x<0:\n",
        "  guess = guess*(-1)\n",
        "\n",
        "print(guess)\n"
      ],
      "metadata": {
        "colab": {
          "base_uri": "https://localhost:8080/"
        },
        "id": "JjcxdX-IeAOk",
        "outputId": "fc109113-b3b2-455d-cfdc-4b1750cda595"
      },
      "execution_count": 11,
      "outputs": [
        {
          "output_type": "stream",
          "name": "stdout",
          "text": [
            "-1.3914668026171924\n"
          ]
        }
      ]
    }
  ]
}