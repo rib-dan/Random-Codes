{
  "nbformat": 4,
  "nbformat_minor": 0,
  "metadata": {
    "colab": {
      "name": "Fibonnaci Recursivo.ipynb",
      "provenance": [],
      "authorship_tag": "ABX9TyM7oaAGpBcPa6nUdx1m+qjs",
      "include_colab_link": true
    },
    "kernelspec": {
      "name": "python3",
      "display_name": "Python 3"
    },
    "language_info": {
      "name": "python"
    }
  },
  "cells": [
    {
      "cell_type": "markdown",
      "metadata": {
        "id": "view-in-github",
        "colab_type": "text"
      },
      "source": [
        "<a href=\"https://colab.research.google.com/github/rib-dan/Random-Codes/blob/main/Fibonnaci_Recursivo.ipynb\" target=\"_parent\"><img src=\"https://colab.research.google.com/assets/colab-badge.svg\" alt=\"Open In Colab\"/></a>"
      ]
    },
    {
      "cell_type": "code",
      "execution_count": 13,
      "metadata": {
        "id": "nMtcxquAWBi2"
      },
      "outputs": [],
      "source": [
        "def fibonnaci(n):\n",
        "  if n == 1:\n",
        "    return 1\n",
        "  elif n == 0:\n",
        "    return 0\n",
        "  else:\n",
        "    return fibonnaci(n-1)+fibonnaci(n-2)"
      ]
    },
    {
      "cell_type": "code",
      "source": [
        "print(fibonnaci(20))"
      ],
      "metadata": {
        "colab": {
          "base_uri": "https://localhost:8080/"
        },
        "id": "atDSoS_EWYgE",
        "outputId": "3d709d79-636d-4b3d-bc83-72aed10053e4"
      },
      "execution_count": 17,
      "outputs": [
        {
          "output_type": "stream",
          "name": "stdout",
          "text": [
            "6765\n"
          ]
        }
      ]
    }
  ]
}